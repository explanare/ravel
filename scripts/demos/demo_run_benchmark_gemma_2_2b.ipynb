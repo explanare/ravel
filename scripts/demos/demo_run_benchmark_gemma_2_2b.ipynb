{
  "nbformat": 4,
  "nbformat_minor": 0,
  "metadata": {
    "colab": {
      "provenance": [],
      "gpuType": "T4",
      "toc_visible": true,
      "collapsed_sections": [
        "JUyOIsvigY7N",
        "iKpdF24zzJN-"
      ],
      "authorship_tag": "ABX9TyOfvWeeDgT4s8bAdJ+J/3QY",
      "include_colab_link": true
    },
    "kernelspec": {
      "name": "python3",
      "display_name": "Python 3"
    },
    "language_info": {
      "name": "python"
    },
    "accelerator": "GPU"
  },
  "cells": [
    {
      "cell_type": "markdown",
      "metadata": {
        "id": "view-in-github",
        "colab_type": "text"
      },
      "source": [
        "<a href=\"https://colab.research.google.com/github/explanare/ravel/blob/demos/scripts/demos/demo_run_benchmark_gemma_2_2b.ipynb\" target=\"_parent\"><img src=\"https://colab.research.google.com/assets/colab-badge.svg\" alt=\"Open In Colab\"/></a>"
      ]
    },
    {
      "cell_type": "markdown",
      "source": [
        "# Colab Setup\n",
        "\n",
        "This notebook requires a GPU runtime."
      ],
      "metadata": {
        "id": "JUyOIsvigY7N"
      }
    },
    {
      "cell_type": "code",
      "execution_count": null,
      "metadata": {
        "id": "flbgMtAlcLn1"
      },
      "outputs": [],
      "source": [
        "%load_ext autoreload\n",
        "%autoreload 2"
      ]
    },
    {
      "cell_type": "code",
      "execution_count": null,
      "metadata": {
        "id": "W93pPcdQgULQ"
      },
      "outputs": [],
      "source": [
        "%%bash\n",
        "\n",
        "git clone https://github.com/explanare/ravel.git\n",
        "git clone https://github.com/stanfordnlp/pyvene.git\n",
        "\n",
        "pip install accelerate\n",
        "pip install datasets"
      ]
    },
    {
      "cell_type": "code",
      "source": [
        "import numpy as np\n",
        "import random\n",
        "import sys\n",
        "import torch\n",
        "\n",
        "RAVEL_LIB_DIR = '/content/ravel/src'\n",
        "RAVEL_SCRIPT_DIR = '/content/ravel/scripts'\n",
        "PYVENE_LIB_DIR = '/content/pyvene'\n",
        "\n",
        "sys.path.append(RAVEL_LIB_DIR)\n",
        "sys.path.append(RAVEL_SCRIPT_DIR)\n",
        "sys.path.append(PYVENE_LIB_DIR)\n",
        "\n",
        "def set_seed(seed):\n",
        "    random.seed(seed)\n",
        "    np.random.seed(seed)\n",
        "    torch.manual_seed(seed)\n",
        "    torch.cuda.manual_seed_all(seed)\n",
        "\n",
        "set_seed(0)\n",
        "\n",
        "device = torch.device(\"cuda\") if torch.cuda.is_available() else torch.device(\"cpu\")\n",
        "\n",
        "!mkdir models\n",
        "!mkdir data\n",
        "\n",
        "MODEL_DIR = '/content/models'\n",
        "DATA_DIR = '/content/data'"
      ],
      "metadata": {
        "id": "0zLdMswKcLn1"
      },
      "execution_count": null,
      "outputs": []
    },
    {
      "cell_type": "markdown",
      "source": [
        "# Model"
      ],
      "metadata": {
        "id": "a9-AQQvZdOJV"
      }
    },
    {
      "cell_type": "code",
      "source": [
        "from transformers import AutoConfig, AutoModelForCausalLM, AutoTokenizer\n",
        "\n",
        "model_id = \"google/gemma-2-2b\"\n",
        "load_tokenizer_only = False\n",
        "\n",
        "cache_dir = MODEL_DIR\n",
        "tokenizer = AutoTokenizer.from_pretrained(model_id, cache_dir=cache_dir)\n",
        "\n",
        "if not load_tokenizer_only:\n",
        "  model = AutoModelForCausalLM.from_pretrained(\n",
        "      model_id, low_cpu_mem_usage=True, device_map='auto', cache_dir=cache_dir,\n",
        "      torch_dtype=torch.bfloat16)\n",
        "  model = model.eval()\n",
        "tokenizer.pad_token = tokenizer.eos_token\n",
        "tokenizer.padding_side = 'left'\n",
        "\n",
        "VOCAB = sorted(tokenizer.vocab, key=tokenizer.vocab.get)"
      ],
      "metadata": {
        "id": "IrrLMNHoqAiF"
      },
      "execution_count": null,
      "outputs": []
    },
    {
      "cell_type": "markdown",
      "source": [
        "# Dataset"
      ],
      "metadata": {
        "id": "dkttf-519P79"
      }
    },
    {
      "cell_type": "markdown",
      "source": [
        "**Download the RAVEL-Gemma-2 instance (gemma2-2b.tgz) from [Google Drive](https://drive.google.com/drive/folders/16gzp89viB-AXhDfG-gHV9EmSlCDYrXUz?usp=sharing)**.\n"
      ],
      "metadata": {
        "id": "ZWqnOFocmtxI"
      }
    },
    {
      "cell_type": "code",
      "source": [
        "%%bash\n",
        "\n",
        "tar -xzf gemma2-2b.tgz -C /content/data/\n",
        "mkdir data/base\n",
        "tar -xvf /content/ravel/data.tgz -C data/base --strip-components=1"
      ],
      "metadata": {
        "id": "SWYtKfM2pGMH"
      },
      "execution_count": null,
      "outputs": []
    },
    {
      "cell_type": "code",
      "source": [
        "import json\n",
        "import os\n",
        "import random\n",
        "\n",
        "import datasets\n",
        "from datasets import Dataset\n",
        "\n",
        "\n",
        "instance = 'gemma2-2b'\n",
        "entity_type = 'city'\n",
        "INPUT_MAX_LEN = 48\n",
        "FEATURE_TYPES = datasets.Features({\"input\": datasets.Value(\"string\"), \"label\": datasets.Value(\"string\"),\n",
        "                              \"source_input\": datasets.Value(\"string\"), \"source_label\": datasets.Value(\"string\"),\n",
        "                              \"inv_label\": datasets.Value(\"string\"),\n",
        "                              'split': datasets.Value(\"string\"), 'source_split': datasets.Value(\"string\"),\n",
        "                              'entity': datasets.Value(\"string\"), 'source_entity': datasets.Value(\"string\")})\n",
        "\n",
        "\n",
        "# Load training dataset.\n",
        "split_to_raw_example = json.load(open(os.path.join(DATA_DIR, f'{instance}/{instance}_{entity_type}_train.json'), 'r'))\n",
        "# Load validation + test dataset.\n",
        "split_to_raw_example.update(json.load(open(os.path.join(DATA_DIR, f'{instance}/{instance}_{entity_type}_context_test.json'), 'r')))\n",
        "split_to_raw_example.update(json.load(open(os.path.join(DATA_DIR, f'{instance}/{instance}_{entity_type}_entity_test.json'), 'r')))\n",
        "# Prepend an extra token to avoid tokenization changes for Llama tokenizer.\n",
        "# Each sequence will start with <s> _ 0\n",
        "SOS_PAD = '0' if 'llama' in tokenizer.name_or_path.lower() else ''\n",
        "NUM_SOS_TOKENS = 3\n",
        "for split in split_to_raw_example:\n",
        "  for i in range(len(split_to_raw_example[split])):\n",
        "    split_to_raw_example[split][i]['inv_label'] = SOS_PAD + split_to_raw_example[split][i]['inv_label']\n",
        "    split_to_raw_example[split][i]['label'] = SOS_PAD + split_to_raw_example[split][i]['label']\n",
        "\n",
        "\n",
        "# Load attributes (tasks) to prompt mapping.\n",
        "ALL_ATTR_TO_PROMPTS = json.load(open(os.path.join(DATA_DIR, 'base', f'ravel_{entity_type}_attribute_to_prompts.json')))\n",
        "\n",
        "# Load prompt to intervention location mapping.\n",
        "split_to_entity_pos = json.load(open(os.path.join(DATA_DIR, instance, f'{instance}_{entity_type}_prompt_to_entity_position.json')))\n",
        "SPLIT_TO_INV_LOCATIONS = {\n",
        "    f'{task}{split}': {'max_input_length': INPUT_MAX_LEN,\n",
        "                       'inv_position': [INPUT_MAX_LEN + pos]}\n",
        "    for task, pos in split_to_entity_pos.items()\n",
        "    for split in ('-train', '-test', '-val', '')\n",
        "}\n",
        "assert(min([min(v['inv_position']) for v in SPLIT_TO_INV_LOCATIONS.values()]) > 0)\n",
        "\n",
        "\n",
        "# Preprocess the dataset.\n",
        "def filter_inv_example(example):\n",
        "  return (example['label'] != example['inv_label'] and\n",
        "          example['source_split'] in SPLIT_TO_INV_LOCATIONS and\n",
        "          example['split'] in SPLIT_TO_INV_LOCATIONS)\n",
        "\n",
        "for split in split_to_raw_example:\n",
        "  random.shuffle(split_to_raw_example[split])\n",
        "  split_to_raw_example[split] = list(filter(filter_inv_example, split_to_raw_example[split]))\n",
        "  if len(split_to_raw_example[split]) == 0:\n",
        "    print('Empty split: \"%s\"' % split)\n",
        "# Remove empty splits.\n",
        "split_to_raw_example = {k: v for k, v in split_to_raw_example.items() if len(v) > 0}\n",
        "print(f\"#Training examples={sum(map(len, [v for k, v in split_to_raw_example.items() if k.endswith('-train')]))}, \"\n",
        "      f\"#Validation examples={sum(map(len, [v for k, v in split_to_raw_example.items() if k.endswith('-val')]))}, \"\n",
        "      f\"#Test examples={sum(map(len, [v for k, v in split_to_raw_example.items() if k.endswith('-test')]))}\")\n",
        "split_to_dataset = {split: Dataset.from_list(\n",
        "    split_to_raw_example[split], features=FEATURE_TYPES)\n",
        "                    for split in split_to_raw_example}\n",
        "\n",
        "# #Training examples=217454, #Validation examples=49606, #Test examples=50020"
      ],
      "metadata": {
        "id": "1jPOMM9W0-BL"
      },
      "execution_count": null,
      "outputs": []
    },
    {
      "cell_type": "code",
      "source": [
        "split_to_dataset[' \"continent\": \"Asia\"}, {\"city\": \"%s\", \"language\": \"-test'][:1]"
      ],
      "metadata": {
        "id": "3WfwACgdMxxc"
      },
      "execution_count": null,
      "outputs": []
    },
    {
      "cell_type": "markdown",
      "source": [
        "# Sparse Autoencoder (SAE)"
      ],
      "metadata": {
        "id": "iKpdF24zzJN-"
      }
    },
    {
      "cell_type": "markdown",
      "source": [
        "## Offline Feature Extraction\n",
        "\n",
        "* Download the raw wikipedia input texts [here](https://drive.google.com/file/d/1TXOKLIy8UNllQG8g_QfolNNwOtvsoK-a/view?usp=drive_link).\n",
        "\n",
        "* Put the file under the path `data/wikipedia`."
      ],
      "metadata": {
        "id": "AkWh1uh8VxpA"
      }
    },
    {
      "cell_type": "code",
      "source": [
        "# Extract wikipedia entity representations for SAE training.\n",
        "\n",
        "import gc\n",
        "import json\n",
        "import numpy as np\n",
        "import re\n",
        "\n",
        "import h5py\n",
        "from utils.intervention_utils import remove_all_forward_hooks\n",
        "\n",
        "\n",
        "def get_last_token_activations(activation_store):\n",
        "  def hook(model, input, output):\n",
        "    activation_store.append(output[0].detach().to(torch.float16).cpu()[:, -1, :])\n",
        "  return hook\n",
        "\n",
        "# Set trunction side to `left` to avoid cutting off the entity token.\n",
        "tokenizer.truncation_side = \"left\"\n",
        "\n",
        "entity_type = 'city'\n",
        "model_name = 'gemma2-2b'\n",
        "layer = 13\n",
        "hdf5_path = os.path.join(DATA_DIR, f\"wikipedia_20220301_{entity_type}_{model_name}_layer{layer}_features_200k.hdf5\")\n",
        "f_out = h5py.File(hdf5_path, \"a\")\n",
        "batch_size = 128\n",
        "max_length = 64\n",
        "max_num_sample_per_entity = 128\n",
        "\n",
        "remove_all_forward_hooks(model)\n",
        "wikipedia_data = json.load(open(os.path.join(DATA_DIR, 'wikipedia', 'wikipedia_20220301_city_sampled_200k.json')))\n",
        "\n",
        "# Extract residual representations at the last token, which is the entity token.\n",
        "for key, vs in wikipedia_data.items():\n",
        "  if not vs:\n",
        "    continue\n",
        "  vs = list(vs)\n",
        "  all_features = []\n",
        "  hook = model.model.layers[layer].register_forward_hook(get_last_token_activations(all_features))\n",
        "  for b_i in range(0, min(len(vs), max_num_sample_per_entity), batch_size):\n",
        "    texts = list(map(lambda x: re.sub(r'[^\\w]$', '', x), vs[b_i:b_i+batch_size]))\n",
        "    encoded_input = tokenizer(texts, padding=\"max_length\", max_length=max_length, return_tensors=\"pt\", truncation=True)\n",
        "    for k in encoded_input:\n",
        "      encoded_input[k] = encoded_input[k].to(device)\n",
        "    with torch.no_grad():\n",
        "      _ = model(**encoded_input)\n",
        "  all_features = torch.cat(all_features, dim=0)\n",
        "  f_out[key] = all_features.numpy()\n",
        "  hook.remove()\n",
        "  del hook, all_features\n",
        "  remove_all_forward_hooks(model)\n",
        "  gc.collect()\n",
        "  torch.cuda.empty_cache()\n",
        "\n",
        "# Reset truncation side to the default.\n",
        "tokenizer.truncation_side = \"right\""
      ],
      "metadata": {
        "id": "sGfAt9ulWLzq"
      },
      "execution_count": null,
      "outputs": []
    },
    {
      "cell_type": "code",
      "source": [
        "# Extract RAVEL entity features for SAE feature selection.\n",
        "\n",
        "import h5py\n",
        "import json\n",
        "import random\n",
        "import re\n",
        "import pickle as pkl\n",
        "import numpy as np\n",
        "\n",
        "\n",
        "def extract_ravel_entity_features(entity_to_split, attribute_to_prompt_and_split,\n",
        "                                  layer, output_path,\n",
        "                                  batch_size=128,\n",
        "                                  input_max_len=64,\n",
        "                                  placeholder='%s',\n",
        "                                  dowsample_ratio=1):\n",
        "  print(output_path)\n",
        "  f_out = h5py.File(output_path, \"a\")\n",
        "  # Generate prompts.\n",
        "  splits = {'train': ('train', 'train'),\n",
        "                 'val_entity': ('val', 'train'),\n",
        "                 'val_context': ('train', 'val'),}\n",
        "  for split_name, (entity_split, prompt_split) in splits.items():\n",
        "    for attr, prompt_to_split in attribute_to_prompt_and_split.items():\n",
        "      inputs, entities, templates = zip(*[(p[:p.index(placeholder)] + e, e, p)\n",
        "          for p in prompt_to_split if prompt_to_split[p] == prompt_split\n",
        "          for e in entity_to_split if entity_to_split[e] == entity_split\n",
        "          # Downsample if needed.\n",
        "          if (prompt_split != 'train' or entity_to_split != 'train') or random.random() < dowsample_ratio]\n",
        "      )\n",
        "      print(attr, split_name, len(inputs))\n",
        "      all_features = []\n",
        "      hook = model.model.layers[layer].register_forward_hook(get_last_token_activations(all_features))\n",
        "      for b_i in range(0, len(inputs), batch_size):\n",
        "        input_batch = inputs[b_i:b_i+batch_size]\n",
        "        encoded_input = tokenizer(\n",
        "            input_batch, padding=\"max_length\", max_length=input_max_len,\n",
        "            return_tensors=\"pt\", truncation=True)\n",
        "        for k in encoded_input:\n",
        "          encoded_input[k] = encoded_input[k].to(device)\n",
        "        with torch.no_grad():\n",
        "          _ = model(**encoded_input)\n",
        "      all_features = torch.cat(all_features, dim=0).numpy()\n",
        "      print(attr, split_name, all_features.shape)\n",
        "      f_out[f'{attr}-{split_name}'] = all_features\n",
        "      f_out[f'{attr}-{split_name}' + '_input'] = np.void(pkl.dumps(inputs))\n",
        "      f_out[f'{attr}-{split_name}' + '_template'] = np.void(pkl.dumps(templates))\n",
        "      f_out[f'{attr}-{split_name}' + '_entity'] = np.void(pkl.dumps(entities))\n",
        "      hook.remove()\n",
        "      del hook, all_features\n",
        "      remove_all_forward_hooks(model)\n",
        "      gc.collect()\n",
        "      torch.cuda.empty_cache()\n",
        "  f_out.flush()\n",
        "  f_out.close()\n",
        "\n",
        "\n",
        "for layer in [13]:\n",
        "  output_path = os.path.join(DATA_DIR, f'ravel_city_{model_name}_layer{layer}_representation.hdf5')\n",
        "  extract_ravel_entity_features(\n",
        "      ENTITY_TO_SPLIT, ATTR_TO_PROMPT_TO_SPLIT,\n",
        "      layer, output_path, batch_size=64, input_max_len=48,\n",
        "      dowsample_ratio=0.001)\n"
      ],
      "metadata": {
        "id": "WUa8CswAYGZM"
      },
      "execution_count": null,
      "outputs": []
    },
    {
      "cell_type": "markdown",
      "source": [
        "## Training\n",
        "\n",
        "We will train a sparse autoencoder on entity representations extracted offline.\n"
      ],
      "metadata": {
        "id": "umZuIUk2DZaO"
      }
    },
    {
      "cell_type": "code",
      "source": [
        "from utils.dataset_utils import HDF5Dataset\n",
        "\n",
        "\n",
        "file_path = os.path.join(DATA_DIR, \"wikipedia_20220301_city_gemma2-2b_layer13_features_200k.hdf5\")\n",
        "TRAINING_BATCH_SIZE = 32\n",
        "train_dataset = HDF5Dataset(file_path, sample_range=None)\n",
        "val_dataset = HDF5Dataset(file_path, sample_range=list(range(80, 128)))\n",
        "wiki_train_dataloader = torch.utils.data.DataLoader(train_dataset, batch_size=TRAINING_BATCH_SIZE, shuffle=True)\n",
        "wiki_val_dataloader = torch.utils.data.DataLoader(val_dataset, batch_size=TRAINING_BATCH_SIZE, shuffle=True)"
      ],
      "metadata": {
        "id": "XmtffTWJkrJY"
      },
      "execution_count": null,
      "outputs": []
    },
    {
      "cell_type": "code",
      "source": [
        "task_name = 'gemma-2-2b-layer13-dim9216-reg0.8-ep10-sae-city_wikipedia_200k' #@param\n",
        "task_name"
      ],
      "metadata": {
        "id": "UIZ91X8nxFRa",
        "cellView": "form"
      },
      "execution_count": null,
      "outputs": []
    },
    {
      "cell_type": "code",
      "source": [
        "import re\n",
        "from train_sae import train_sae\n",
        "\n",
        "\n",
        "config = {\n",
        "    'task_name': task_name,\n",
        "    'reg_coeff': float(re.search('reg([\\d.]+)', task_name).group(1)),\n",
        "    'input_dim': model.config.hidden_size,\n",
        "    'latent_dim': int(re.search('dim(\\d+)', task_name).group(1)),\n",
        "    'learning_rate': 1e-4,\n",
        "    'weight_decay': 1e-4,\n",
        "    'end_learning_rate_ratio': 0.5,\n",
        "    'num_epochs': int(re.search('ep(\\d+)', task_name).group(1)),\n",
        "    'model_dir': MODEL_DIR,\n",
        "    'log_dir': os.path.join(MODEL_DIR, 'logs', task_name),\n",
        "}\n",
        "\n",
        "# Training metrics are logged to the Tensorboard at http://localhost:6006/.\n",
        "autoencoder = train_sae(config, wiki_train_dataloader, wiki_val_dataloader)"
      ],
      "metadata": {
        "id": "wzRVRB6DDZYe"
      },
      "execution_count": null,
      "outputs": []
    },
    {
      "cell_type": "markdown",
      "source": [
        "## Feature Selection"
      ],
      "metadata": {
        "id": "LBClAbyY0Tm0"
      }
    },
    {
      "cell_type": "code",
      "source": [
        "autoencoder_run_name = 'gemma-2-2b-layer13-dim9216-reg0.8-ep10-sae-city_wikipedia_200k.pt'\n",
        "autoencoder = torch.load(os.path.join(MODEL_DIR, autoencoder_run_name)).to(device)"
      ],
      "metadata": {
        "id": "mf6E0eudgO2F"
      },
      "execution_count": null,
      "outputs": []
    },
    {
      "cell_type": "code",
      "source": [
        "# Load the RAVEL dataset.\n",
        "import json\n",
        "\n",
        "from utils.dataset_utils import load_entity_representation_with_label\n",
        "\n",
        "\n",
        "entity_type = 'city'\n",
        "layer = 13\n",
        "print(entity_type, layer)\n",
        "\n",
        "model_type = 'gemma2-2b'\n",
        "splits = ['train', 'val_entity', 'val_context']\n",
        "feature_hdf5_path = os.path.join(DATA_DIR, f'ravel_{entity_type}_{model_type}_layer{layer}_representation.hdf5')\n",
        "entity_attr_to_label = json.load(open(os.path.join(SCR_DATA_DIR, 'base', f'ravel_{entity_type}_entity_attributes.json')))\n",
        "X, Y, sorted_unique_label = load_entity_representation_with_label(feature_hdf5_path, entity_attr_to_label, splits)"
      ],
      "metadata": {
        "id": "1OeMovewbVdp"
      },
      "execution_count": null,
      "outputs": []
    },
    {
      "cell_type": "code",
      "source": [
        "# Run feature selection.\n",
        "import numpy as np\n",
        "\n",
        "from methods.select_features import select_features_with_classifier\n",
        "\n",
        "intervention_dim_to_eval = [\n",
        "    ('reconstruction', None),\n",
        "    ('dim%d' % autoencoder.encoder[0].out_features, range(autoencoder.encoder[0].out_features))]\n",
        "\n",
        "attr = 'Country'\n",
        "# Only use the first N examples, as larger coefficients might be slow.\n",
        "first_n = 10000\n",
        "coeff_to_kept_dims = select_features_with_classifier(\n",
        "    autoencoder.encode, torch.from_numpy(X[attr]['train'][:first_n]).to(device), Y[attr]['train'][:first_n],\n",
        "    coeff=[0.01, 0.001])\n",
        "for kept_dim in coeff_to_kept_dims.values():\n",
        "  intervention_dim_to_eval.append(('dim%d' % len(kept_dim), kept_dim))\n",
        "\n",
        "# Random baselines.\n",
        "for i in [64, 512]:\n",
        "  kept_dim = np.random.permutation(autoencoder.encoder[0].out_features)[:i]\n",
        "  intervention_dim_to_eval.append(('random_dim%d' % len(kept_dim), kept_dim))"
      ],
      "metadata": {
        "id": "sPF6FR8zvwvJ"
      },
      "execution_count": null,
      "outputs": []
    },
    {
      "cell_type": "markdown",
      "source": [
        "## Evaluation"
      ],
      "metadata": {
        "id": "B0npE3xlExIz"
      }
    },
    {
      "cell_type": "code",
      "source": [
        "# Run eval\n",
        "import re\n",
        "\n",
        "from utils.intervention_utils import load_intervenable_with_autoencoder, eval_with_interventions, remove_all_forward_hooks\n",
        "from utils.metric_utils import compute_metrics\n",
        "\n",
        "eval_split_to_dataset = {k: v for k, v in split_to_dataset.items()\n",
        "                         if k.endswith('-test') or k.endswith('-val')\n",
        "                         }\n",
        "\n",
        "target_task = 'Country'\n",
        "max_new_tokens = 3\n",
        "layer = int(re.search(r'layer(\\d+)', autoencoder_run_name).group(1))\n",
        "print(f'Layer={layer}')\n",
        "\n",
        "for inv_name, inv_dims in intervention_dim_to_eval:\n",
        "  if inv_name == 'reconstruction':\n",
        "    continue\n",
        "  intervenable = load_intervenable_with_autoencoder(model, autoencoder, inv_dims, layer)\n",
        "  intervenable.set_device(\"cuda\")\n",
        "  intervenable.disable_model_gradients()\n",
        "  split_to_eval_metrics = eval_with_interventions(\n",
        "      intervenable, eval_split_to_dataset, SPLIT_TO_INV_LOCATIONS, tokenizer,\n",
        "      max_new_tokens=max_new_tokens,\n",
        "      compute_metrics_fn=compute_metrics,\n",
        "      eval_batch_size=128,\n",
        "      debug_print=True)\n",
        "  json.dump(split_to_eval_metrics, open(os.path.join(MODEL_DIR, f'{autoencoder_run_name.split(\".pt\")[0]}_{inv_name}_{max_new_tokens}tok_{target_task}.json'), 'w'))\n",
        "  remove_all_forward_hooks(intervenable)\n",
        "  del intervenable"
      ],
      "metadata": {
        "id": "CF6JzDbPzIu8"
      },
      "execution_count": null,
      "outputs": []
    },
    {
      "cell_type": "markdown",
      "source": [
        "# Distributed Alignment Search (DAS/MDAS)"
      ],
      "metadata": {
        "id": "XuMUHhoBohzd"
      }
    },
    {
      "cell_type": "markdown",
      "source": [
        "## Training"
      ],
      "metadata": {
        "id": "onC3-T2h0ulg"
      }
    },
    {
      "cell_type": "code",
      "source": [
        "import collections\n",
        "import numpy as np\n",
        "import re\n",
        "\n",
        "from datasets import concatenate_datasets\n",
        "from methods.distributed_alignment_search import LowRankRotatedSpaceIntervention\n",
        "from methods.differential_binary_masking import DifferentialBinaryMasking\n",
        "import pyvene as pv\n",
        "from tqdm import tqdm, trange\n",
        "from train_intervention import train_intervention\n",
        "from transformers import get_linear_schedule_with_warmup\n",
        "from utils.dataset_utils import get_multitask_dataloader\n",
        "from utils.intervention_utils import train_intervention_step, eval_with_interventions, get_intervention_config, remove_all_forward_hooks, remove_invalid_token_id\n",
        "from utils.metric_utils import compute_metrics, compute_cross_entropy_loss\n",
        "\n",
        "\n",
        "def get_short_model_name(model):\n",
        "  name_match = re.search('(llama-2-\\d+b|tinyllama|pythia-[\\d.]+b|gemma-2-\\d+b)', model.name_or_path.lower())\n",
        "  if name_match:\n",
        "    return name_match.group(1)\n",
        "  else:\n",
        "    return model.name_or_path.lower().split('-')[0]\n",
        "\n",
        "\n",
        "def run_exp(config):\n",
        "  inv_tasks = '+'.join([''.join(re.findall(r'[A-Za-z]+', t)) for t, l in config['training_tasks'].items() if 'match_source' in l])\n",
        "  control_tasks = '+'.join([''.join(re.findall(r'[A-Za-z]+', t)) for t, l in config['training_tasks'].items() if 'match_base' in l])\n",
        "  task_compressed = ((inv_tasks + '_ex_' + control_tasks) if control_tasks else inv_tasks)\n",
        "  method_name = 'multitask_method' if len(config['training_tasks']) > 1 else 'baseline_method'\n",
        "  if config['intervenable_config']['intervenable_interventions_type'] == LowRankRotatedSpaceIntervention:\n",
        "    method_name = method_name.replace('method', 'daslora')\n",
        "  elif config['intervenable_config']['intervenable_interventions_type'] == DifferentialBinaryMasking:\n",
        "    if config['regularization_coefficient'] > 1e-6:\n",
        "      method_name = method_name.replace('method', 'mask_l1')\n",
        "    else:\n",
        "      method_name = method_name.replace('method', 'mask')\n",
        "  split_to_inv_locations = config['split_to_inv_locations']\n",
        "  input_len = list(split_to_inv_locations.values())[0]['max_input_length']\n",
        "  inv_pos = min([x['inv_position'][0] for x in split_to_inv_locations.values()])\n",
        "  inv_loc_name = 'len%d_pos%s' % (input_len, 'e' if inv_pos != input_len - 1 else 'f')\n",
        "  training_data_percentage = int(config['max_train_percentage'] * 100)\n",
        "  suffix = f\"_cause{config['cause_task_sample_size']}\"\n",
        "  if any([v == 'match_base' for t, v in config['training_tasks'].items()]):\n",
        "    suffix += f'_iso{config[\"iso_task_sample_size\"]}'\n",
        "  layer = config['intervenable_config']['intervenable_layer']\n",
        "  run_name = (f\"{get_short_model_name(model)}-layer{layer}\"\n",
        "              f\"-dim{config['intervention_dimension']}\"\n",
        "              f\"-{method_name}_{config['max_output_tokens']}tok_\"\n",
        "              f\"{task_compressed}_{inv_loc_name}_ep{config['training_epoch']}{suffix}\")\n",
        "  config['run_name_prefix'] = run_name.rsplit('_ep', 1)[0]\n",
        "  print(run_name)\n",
        "  intervenable, intervenable_config = train_intervention(config, model, tokenizer, split_to_dataset)\n",
        "  # Save model.\n",
        "  torch.save({k: v[0].rotate_layer.weight for k, v in intervenable.interventions.items()},\n",
        "             os.path.join(MODEL_DIR, f'{run_name}.pt'))\n",
        "  print('Model saved to %s' % os.path.join(MODEL_DIR, f'{run_name}.pt'))\n",
        "  # Eval.\n",
        "  split_to_eval_metrics = eval_with_interventions(\n",
        "      intervenable, eval_split_to_dataset, split_to_inv_locations, tokenizer,\n",
        "      compute_metrics_fn=compute_metrics,\n",
        "      max_new_tokens=config['max_output_tokens'],\n",
        "      eval_batch_size=EVAL_BATCH_SIZE)\n",
        "  # Logging.\n",
        "  json.dump(split_to_eval_metrics, open(os.path.join(MODEL_DIR, f'{run_name}_evalall.json'), 'w'))\n",
        "  print('Saved to %s' % os.path.join(MODEL_DIR, f'{run_name}_evalall.json'))\n",
        "  remove_all_forward_hooks(intervenable)\n",
        "  return intervenable\n",
        "\n",
        "\n",
        "attrs = list(ALL_ATTR_TO_PROMPTS)\n",
        "target_attr = 'Country'\n",
        "\n",
        "# Train on disentangling Country attribute only.\n",
        "training_tasks_list = [\n",
        "  {t: 'match_source'} for t in attrs if t == target_attr\n",
        "] + [\n",
        "    {t: 'match_source' if t == target_t else 'match_base' for t in attrs}\n",
        "    for target_t in attrs if target_t == target_attr\n",
        "]\n",
        "\n",
        "eval_split_to_dataset = {k: v for k, v in split_to_dataset.items()\n",
        "                         if k.endswith('-test') or k.endswith('-val')}\n",
        "\n",
        "model = model.eval()\n",
        "\n",
        "TRAINING_BATCH_SIZE = 16\n",
        "EVAL_BATCH_SIZE = 128\n",
        "\n",
        "lr = 1e-4\n",
        "for inv_layer in [13]:\n",
        "  for inv_dim in [72, 144]:\n",
        "    for training_tasks in training_tasks_list:\n",
        "      for cause_task_sample_size in [20000]:\n",
        "        config = {\n",
        "            'regularization_coefficient': 0,\n",
        "            'intervention_dimension': inv_dim,\n",
        "            'max_output_tokens': 3,\n",
        "            'intervenable_config': {\n",
        "              'intervenable_layer': inv_layer,\n",
        "              'intervenable_representation_type': 'block_output',\n",
        "              'intervenable_unit': 'pos',\n",
        "              'max_number_of_units': 1,\n",
        "              'intervenable_interventions_type': LowRankRotatedSpaceIntervention,\n",
        "            },\n",
        "            'training_tasks': training_tasks,\n",
        "            'training_epoch': 3,\n",
        "            'split_to_inv_locations': SPLIT_TO_INV_LOCATIONS,\n",
        "            'max_train_percentage': 1.0 if len(training_tasks) <= 3 else 1.0,\n",
        "            'init_lr': lr,\n",
        "            'cause_task_sample_size': cause_task_sample_size,\n",
        "            'iso_task_sample_size': 5000,\n",
        "            'training_batch_size': TRAINING_BATCH_SIZE,\n",
        "            'task_to_prompts': ALL_ATTR_TO_PROMPTS,\n",
        "            'log_dir': os.path.join(MODEL_DIR, 'logs'),\n",
        "        }\n",
        "        intervenable = run_exp(config)"
      ],
      "metadata": {
        "id": "5DGCvKEQxYsU"
      },
      "execution_count": null,
      "outputs": []
    },
    {
      "cell_type": "markdown",
      "source": [
        "## Evaluate"
      ],
      "metadata": {
        "id": "glatG86QlJ4q"
      }
    },
    {
      "cell_type": "code",
      "source": [
        "# The training script above has already included the evaluation part.\n",
        "# Below is a standalone evaluation script in case you want to rerun evaluation.\n",
        "\n",
        "\n",
        "import re\n",
        "\n",
        "import pyvene as pv\n",
        "from utils.intervention_utils import load_intervenable, load_intervenable_with_pca, eval_with_interventions\n",
        "from utils.metric_utils import compute_metrics\n",
        "\n",
        "\n",
        "model_paths = [\n",
        "    'gemma-2-2b-layer13-dim72-multitask_daslora_3tok_Country_ex_Continent+Latitude+Longitude+Language+Timezone_len48_pose_ep3_cause20000_iso5000.pt',\n",
        " ]\n",
        "\n",
        "eval_split_to_dataset = {k: v for k, v in split_to_dataset.items()\n",
        "                         if k.endswith('-test')\n",
        "                         }\n",
        "RUN_TO_EVAL_METRICS = {}\n",
        "for i, run_name in enumerate(model_paths):\n",
        "  print(run_name)\n",
        "  layer = int(re.search('layer(\\d+)[_\\-]', run_name).group(1))\n",
        "  run_name, ext = run_name.rsplit('.', 1)\n",
        "  if 'pca' in run_name:\n",
        "    intervenable = load_intervenable_with_pca(model, run_name + '.' + ext)\n",
        "  elif 'causal_abstraction' in run_name:\n",
        "    intervenable = load_causal_abstraction_intervenable(model, run_name)\n",
        "  else:\n",
        "    intervenable = load_intervenable(model, os.path.join(MODEL_DIR, run_name + '.' + ext))\n",
        "  split_to_eval_metrics = eval_with_interventions(\n",
        "      intervenable, eval_split_to_dataset, SPLIT_TO_INV_LOCATIONS if layer < 24 else SPLIT_TO_INV_LOCATIONS_LAST_TOK,\n",
        "      tokenizer, compute_metrics_fn=compute_metrics, max_new_tokens=3, debug_print=False)\n",
        "  json.dump(split_to_eval_metrics, open(os.path.join(MODEL_DIR, f'{run_name}_evalall.json'), 'w'))"
      ],
      "metadata": {
        "id": "DgTg14xMlJCO"
      },
      "execution_count": null,
      "outputs": []
    },
    {
      "cell_type": "markdown",
      "source": [
        "# Compare Methods with Disentangle Score"
      ],
      "metadata": {
        "id": "F-_gzLeA1Qc7"
      }
    },
    {
      "cell_type": "code",
      "source": [
        "# Compute disentangle scores.\n",
        "import collections\n",
        "from utils.metric_utils import compute_disentangle_score\n",
        "\n",
        "\n",
        "dimension_to_log_path = {\n",
        "    'SAE': {d: f'gemma-2-2b-layer13-dim9216-reg0.8-ep10-sae-city_wikipedia_200k_dim{d}_3tok_Country.json'\n",
        "            # Update the following dimensions to match your own results.\n",
        "            # SAE might have different feature dimensions from run to run due to\n",
        "            # randomness in the feature selection algorithm.\n",
        "            for d in [56, 719, 9216]},\n",
        "    'DAS': {d: f'gemma-2-2b-layer13-dim{d}-baseline_daslora_3tok_Country_len48_pose_ep3_cause20000_evalall.json'\n",
        "            for d in [72, 144]},\n",
        "    'MDAS': {d: f'gemma-2-2b-layer13-dim{d}-multitask_daslora_3tok_Country_ex_Continent+Latitude+Longitude+Language+Timezone_len48_pose_ep3_cause20000_iso5000_evalall.json'\n",
        "             for d in [72, 144]\n",
        "    },\n",
        "}\n",
        "\n",
        "\n",
        "entity_type = 'city'\n",
        "target_attribute = 'Country'\n",
        "split_type = 'context'\n",
        "split_suffix = '-test'\n",
        "model_name = 'gemma2-2b'\n",
        "\n",
        "\n",
        "split_to_raw_example = json.load(\n",
        "    open(os.path.join(DATA_DIR, model_name, f'{model_name}_{entity_type}_{split_type}_test.json')))\n",
        "attribute_to_prompts = json.load(\n",
        "    open(os.path.join(DATA_DIR, 'base', f'ravel_{entity_type}_attribute_to_prompts.json')))\n",
        "\n",
        "\n",
        "attribute_to_iso_tasks = {\n",
        "    a: [p + split_suffix for p in ps if p + split_suffix in split_to_raw_example]\n",
        "    for a, ps in attribute_to_prompts.items() if a != target_attribute}\n",
        "attribute_to_cause_tasks = {\n",
        "    a: [p + split_suffix for p in ps if p + split_suffix in split_to_raw_example]\n",
        "    for a, ps in attribute_to_prompts.items() if a == target_attribute}\n",
        "\n",
        "method_to_data = collections.defaultdict(dict)\n",
        "for method in dimension_to_log_path:\n",
        "  for inv_dimension in dimension_to_log_path[method]:\n",
        "    log_data = json.load(\n",
        "        open(os.path.join(MODEL_DIR, dimension_to_log_path[method][inv_dimension])))\n",
        "    method_to_data[method][inv_dimension] = compute_disentangle_score(\n",
        "        log_data, attribute_to_iso_tasks, attribute_to_cause_tasks)"
      ],
      "metadata": {
        "id": "FxZSB2bT36ra"
      },
      "execution_count": 20,
      "outputs": []
    },
    {
      "cell_type": "code",
      "source": [
        "method_to_data"
      ],
      "metadata": {
        "colab": {
          "base_uri": "https://localhost:8080/"
        },
        "id": "XKu7VEVRPjBH",
        "outputId": "413eb049-fb23-4cbb-9ab0-355e50af338d"
      },
      "execution_count": 21,
      "outputs": [
        {
          "output_type": "execute_result",
          "data": {
            "text/plain": [
              "defaultdict(dict,\n",
              "            {'SAE': {56: {'disentangle': 0.38833333333333336,\n",
              "               'isolate': 0.7516666666666667,\n",
              "               'cause': 0.025},\n",
              "              719: {'disentangle': 0.40658333333333335,\n",
              "               'isolate': 0.22566666666666668,\n",
              "               'cause': 0.5875},\n",
              "              9216: {'disentangle': 0.49341666666666667,\n",
              "               'isolate': 0.06933333333333333,\n",
              "               'cause': 0.9175}},\n",
              "             'DAS': {72: {'disentangle': 0.5069166666666667,\n",
              "               'isolate': 0.04133333333333333,\n",
              "               'cause': 0.9724999999999999},\n",
              "              144: {'disentangle': 0.509, 'isolate': 0.043, 'cause': 0.975}},\n",
              "             'MDAS': {72: {'disentangle': 0.7024999999999999,\n",
              "               'isolate': 0.7024999999999999,\n",
              "               'cause': 0.7025},\n",
              "              144: {'disentangle': 0.7081666666666666,\n",
              "               'isolate': 0.7238333333333333,\n",
              "               'cause': 0.6925}}})"
            ]
          },
          "metadata": {},
          "execution_count": 21
        }
      ]
    },
    {
      "cell_type": "code",
      "source": [
        "#@markdown Plotting\n",
        "\n",
        "import matplotlib.pyplot as plt\n",
        "import matplotlib\n",
        "\n",
        "plt.rcParams['figure.dpi'] = 100\n",
        "plt.rcParams['savefig.dpi'] = 100\n",
        "\n",
        "\n",
        "colors = [matplotlib.colors.to_hex(c) for c in plt.cm.tab20.colors]\n",
        "\n",
        "name_to_color = {\n",
        "    'SAE_RAND': 'gray',\n",
        "    'PCA': colors[6],\n",
        "    'SAE': colors[2],\n",
        "    'RLAP': colors[4],\n",
        "    'DBM': colors[1],\n",
        "    'MDBM': colors[0],\n",
        "    'DAS': colors[9],\n",
        "    'MDAS': colors[8],\n",
        "}\n",
        "\n",
        "name_to_marker = {\n",
        "    'SAE_RAND': 'o--',\n",
        "    'PCA': 'o--',\n",
        "    'SAE': 'o--',\n",
        "    'RLAP': '^--',\n",
        "    'DBM': 's--',\n",
        "    'MDBM': 's--',\n",
        "    'DAS': 's--',\n",
        "    'MDAS': 's--',\n",
        "}\n",
        "\n",
        "for n, x in method_to_data.items():\n",
        "  sorted_dim = sorted(x)\n",
        "  p = plt.plot([x[k]['cause'] for k in sorted_dim],\n",
        "               [x[k]['isolate'] for k in sorted_dim], name_to_marker[n], label=n, markersize=10,\n",
        "               c=name_to_color[n])\n",
        "  for k in sorted(x, key=lambda s: x[s]['disentangle'], reverse=True):\n",
        "    c = p[-1].get_color()\n",
        "    offset = (0, 0.05)\n",
        "    # Shift text boxes to avoid overlaps.\n",
        "    if n == 'DAS' and k == 144:\n",
        "      offset = (0.01, 0.01)\n",
        "    plt.annotate(k, (x[k]['cause'] - offset[0], x[k]['isolate'] + offset[1]), size=12,\n",
        "                 bbox=dict(boxstyle='round,pad=0.15', fc=c, ec='white', alpha=0.5))\n",
        "plt.scatter(1, 1, s=500, marker='*', color='gold', zorder=3)\n",
        "plt.annotate('GOAL', (1.0-0.18, 1.0 - 0.01), size=12)\n",
        "plt.gca().set_aspect('equal')\n",
        "plt.xlim(-0.1, 1.05)\n",
        "plt.ylim(-0.0, 1.1)\n",
        "plt.grid(alpha=0.3, linestyle='--')\n",
        "plt.legend(loc = 'lower left', prop={'size': 10})\n",
        "plt.xlabel('Cause Score', fontsize=12)\n",
        "_ = plt.ylabel('Isolate Score', fontsize=12)"
      ],
      "metadata": {
        "colab": {
          "base_uri": "https://localhost:8080/",
          "height": 453
        },
        "outputId": "0ce0d27e-7a21-48f3-c4d2-2e679c017796",
        "id": "_0GSxcY1esIh",
        "cellView": "form"
      },
      "execution_count": 22,
      "outputs": [
        {
          "output_type": "display_data",
          "data": {
            "text/plain": [
              "<Figure size 640x480 with 1 Axes>"
            ],
            "image/png": "[encoded data removed]"
          },
          "metadata": {}
        }
      ]
    }
  ]
}